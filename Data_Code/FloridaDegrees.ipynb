{
 "cells": [
  {
   "cell_type": "code",
   "execution_count": null,
   "metadata": {},
   "outputs": [],
   "source": [
    "# Dependencies\n",
    "import pandas as pd\n",
    "import numpy as np\n",
    "import matplotlib.pyplot as plt\n",
    "#look for educationla attaiment SCHL"
   ]
  },
  {
   "cell_type": "code",
   "execution_count": null,
   "metadata": {},
   "outputs": [],
   "source": [
    "#Loading  Florida Data csv file\n",
    "file_to_load = 'data_files/psam_p12.csv'\n",
    "#Converting to Pandas df\n",
    "degree_data = pd.read_csv(file_to_load)\n",
    "degree_data.head()"
   ]
  },
  {
   "cell_type": "code",
   "execution_count": null,
   "metadata": {},
   "outputs": [],
   "source": [
    "# getting the degree codes and names (I converted the information to a csv from the pdf)\n",
    "\n",
    "degree_code = pd.read_csv(\"data_files/degree_codes.csv\", header = None)\n",
    "degree_code = pd.DataFrame(degree_code)\n",
    "degree_code = degree_code.rename(columns = {0: \"degree_code\",\n",
    "                                            1: \"degree_name\"})\n",
    "degree_code.head()"
   ]
  },
  {
   "cell_type": "code",
   "execution_count": null,
   "metadata": {},
   "outputs": [],
   "source": [
    "#grouping data by degree code only including people that are looking for a job\n",
    "obs_looking = degree_data[degree_data['NWLK'] == 1].groupby('FOD1P')\n",
    "#getting counts of people for each degree and renaming column\n",
    "looking_counts = pd.DataFrame(obs_looking.count()[['RT']]).reset_index()\n",
    "looking_counts = looking_counts.rename(columns = {\"FOD1P\": \"degree_code\",\n",
    "                                                  \"RT\": \"looking\"})\n",
    "#grouping by degree code\n",
    "obs = degree_data.groupby('FOD1P')\n",
    "#getting counts of people for each degree\n",
    "job_counts = pd.DataFrame(obs.count()[['RT']])\n",
    "#getting mean wage for each degree\n",
    "income = pd.DataFrame(obs.mean()['WAGP'])\n",
    "#merging counts and income frames\n",
    "income_per_degree = job_counts.merge(income, on = 'FOD1P')\\\n",
    "                    .reset_index()\n",
    "#renaming columns\n",
    "income_per_degree = income_per_degree.rename(columns = {\"FOD1P\": \"degree_code\",\n",
    "                                                        \"RT\": \"number_of_people\",\n",
    "                                                        \"WAGP\":\"Wage/Salary\"})\n",
    "#merging frame with counts of people looking\n",
    "income_per_degree = income_per_degree.merge(looking_counts, on = \"degree_code\")\n",
    "# getting a percentage of people looking by degree\n",
    "income_per_degree[\"looking_%\"] = income_per_degree[\"looking\"]\\\n",
    "                                /income_per_degree[\"number_of_people\"]\\\n",
    "                                * 100\n",
    "\n",
    "income_per_degree.head()"
   ]
  },
  {
   "cell_type": "code",
   "execution_count": null,
   "metadata": {},
   "outputs": [],
   "source": [
    "#merge to a final dataframe including all data.\n",
    "full_data = degree_code.merge(income_per_degree, on = 'degree_code')\n",
    "#sorting by wafe in descending order\n",
    "full_data.sort_values('Wage/Salary', ascending = False).head(10)"
   ]
  },
  {
   "cell_type": "code",
   "execution_count": null,
   "metadata": {},
   "outputs": [],
   "source": [
    "full_data.sort_values('looking', ascending = False).head(10)"
   ]
  },
  {
   "cell_type": "code",
   "execution_count": null,
   "metadata": {},
   "outputs": [],
   "source": [
    "full_data.sort_values('looking_%', ascending = False).head(10)"
   ]
  }
 ],
 "metadata": {
  "kernelspec": {
   "display_name": "Python [conda env:pythonData]",
   "language": "python",
   "name": "conda-env-pythonData-py"
  },
  "language_info": {
   "codemirror_mode": {
    "name": "ipython",
    "version": 3
   },
   "file_extension": ".py",
   "mimetype": "text/x-python",
   "name": "python",
   "nbconvert_exporter": "python",
   "pygments_lexer": "ipython3",
   "version": "3.6.7"
  }
 },
 "nbformat": 4,
 "nbformat_minor": 2
}
