{
 "cells": [
  {
   "cell_type": "markdown",
   "metadata": {},
   "source": [
    "# United States Education and Occupation Information\n",
    "This extracts the all information in the 2013-2017 American Community Survey PUMS Data into a pandas data frame. Then key variables are obtained to gather aggregate information on what are the wages (WAGP) of the people of the US based on their level of education (SCHL), field of degree (FOD1P) and occupation (OCCP).\n",
    "\n",
    "## Variables Used:\n",
    "Wages (WAGP)<br>\n",
    "Level of Education (SCHL)<br>\n",
    "Field of Degree (FOD1P)<br>\n",
    "Occupation (OCCP)<br>\n",
    "Sex (SEX)<br>\n",
    "Looking for Job (NWLK)<br>\n",
    "### Dependencies:"
   ]
  },
  {
   "cell_type": "code",
   "execution_count": 1,
   "metadata": {},
   "outputs": [],
   "source": [
    "# Dependencies\n",
    "import pandas as pd\n",
    "import numpy as np\n",
    "import matplotlib.pyplot as plt"
   ]
  },
  {
   "cell_type": "markdown",
   "metadata": {},
   "source": [
    "## Reading and Organizing the Data\n",
    "The data is downloaded as a csv from US Census Bureau as a CSV.<br>\n",
    "Data can be downloaded here:<br>https://www2.census.gov/programs-surveys/acs/data/pums/2017/5-Year/<br>\n",
    "It is then read in to a Pandas DataFrame<br>\n",
    "The columns are coded according the 2013-2017 ACS PUMS Data Dictionary<br>\n",
    "Data Dictionary can be found here:<br>\n",
    "https://www2.census.gov/programs-surveys/acs/tech_docs/pums/data_dict/PUMS_Data_Dictionary_2013-2017.pdf?#"
   ]
  },
  {
   "cell_type": "code",
   "execution_count": 2,
   "metadata": {},
   "outputs": [],
   "source": [
    "#Loading US Data csv files\n",
    "file_to_load = ['data_files/psam_pusa.csv'\n",
    "                ,'data_files/psam_pusb.csv'\n",
    "                ,'data_files/psam_pusc.csv'\n",
    "                ,'data_files/psam_pusd.csv']\n",
    "chunksize = 100000"
   ]
  },
  {
   "cell_type": "code",
   "execution_count": 3,
   "metadata": {},
   "outputs": [],
   "source": [
    "#obtaining the desired columns from the Large Dataset into smaller CSVs\n",
    "count = 1\n",
    "for path in file_to_load:\n",
    "    degree_dataT = pd.read_csv(path, chunksize=chunksize, iterator = True)\n",
    "    degree_data = pd.concat(degree_dataT, ignore_index=True)\n",
    "\n",
    "    degree_data = degree_data[[\"FOD1P\",\"OCCP\",\"WAGP\",\"SEX\",\"SCHL\",\"NWLK\"]]\n",
    "\n",
    "    degree_data.to_csv(f'data_files/usa_{count}.csv')\n",
    "    count += 1\n",
    "    %reset_selective -f degree"
   ]
  },
  {
   "cell_type": "code",
   "execution_count": null,
   "metadata": {},
   "outputs": [],
   "source": [
    "#load US selected variable CSVs\n",
    "usa_files = ['data_files/usa_1.csv',\n",
    "            'data_files/usa_2.csv',\n",
    "            'data_files/usa_3.csv',\n",
    "            'data_files/usa_4.csv']\n",
    "\n",
    "\n",
    "us_data1 = pd.read_csv(usa_files[0]).reset_index()\n",
    "us_data2 = pd.read_csv(usa_files[1]).reset_index()\n",
    "us_data3 = pd.read_csv(usa_files[2]).reset_index()\n",
    "us_data4 = pd.read_csv(usa_files[3]).reset_index()\n",
    "\n",
    "degree_data = pd.concat([us_data1,us_data2,us_data3,us_data4]).drop('index',axis = 1)\n",
    "degree_data = degree_data.drop('Unnamed: 0',axis = 1)\n",
    "\n",
    "degree_data.head()"
   ]
  },
  {
   "cell_type": "code",
   "execution_count": null,
   "metadata": {},
   "outputs": [],
   "source": []
  },
  {
   "cell_type": "markdown",
   "metadata": {},
   "source": [
    "# Question 4"
   ]
  },
  {
   "cell_type": "code",
   "execution_count": null,
   "metadata": {},
   "outputs": [],
   "source": [
    "# Question 4\n",
    "us_avg_salary = degree_data['WAGP'].dropna()\n",
    "us_avg_salary = us_avg_salary[us_avg_salary != 0]\n",
    "us_avg_salary = us_avg_salary.mean()\n",
    "print(us_avg_salary)\n",
    "\n",
    "# What\n",
    "print(\"############################################\")\n",
    "# Group by degree code\n",
    "obs = degree_data.groupby('FOD1P')\n",
    "\n",
    "# Getting mean wage for each degree\n",
    "income = obs.mean()['WAGP']\n",
    "income = pd.DataFrame(income)\n",
    "\n",
    "# Merging counts and income frames\n",
    "income_per_degree = pd.DataFrame(income).reset_index()\n",
    "\n",
    "# Renaming columns\n",
    "income_per_degree = income_per_degree.rename(columns = {\"FOD1P\": \"degree_code\", \"WAGP\": \"Wage/Salary\"})\n",
    "income_per_degree.sort_values('Wage/Salary').where(income_per_degree['Wage/Salary'] <= us_avg_salary).head(10)"
   ]
  },
  {
   "cell_type": "markdown",
   "metadata": {},
   "source": [
    "## Degree Codes"
   ]
  },
  {
   "cell_type": "code",
   "execution_count": null,
   "metadata": {},
   "outputs": [],
   "source": [
    "# getting the degree codes and names \n",
    "# Converted the information to a csv from the Data Dictionary using Excel\n",
    "\n",
    "degree_code = pd.read_csv(\"data_files/degree_codes.csv\", header = None)\n",
    "degree_code = pd.DataFrame(degree_code)\n",
    "degree_code = degree_code.rename(columns = {0: \"degree_code\",\n",
    "                                            1: \"degree_name\"})\n",
    "degree_code.head()"
   ]
  },
  {
   "cell_type": "markdown",
   "metadata": {},
   "source": [
    "## Degree Counts/Wages"
   ]
  },
  {
   "cell_type": "code",
   "execution_count": null,
   "metadata": {},
   "outputs": [],
   "source": [
    "#grouping by degree code\n",
    "obs = degree_data.groupby('FOD1P')\n",
    "#getting counts of people for each degree\n",
    "degree_counts = pd.DataFrame(obs.size())\n",
    "#getting mean wage for each degree\n",
    "income = pd.DataFrame(obs.mean()['WAGP'])\n",
    "\n",
    "#merging frames\n",
    "income_per_degree = degree_counts.merge(income, on = 'FOD1P')\\\n",
    "                    .reset_index()\n",
    "#renaming columns\n",
    "income_per_degree = income_per_degree.rename(columns = {\"FOD1P\": \"degree_code\",\n",
    "                                                        0: \"number_of_people\",\n",
    "                                                        \"WAGP\":\"wage/salary\"})\n",
    "\n",
    "income_per_degree.sort_values('wage/salary', ascending = False).head(10)"
   ]
  },
  {
   "cell_type": "markdown",
   "metadata": {},
   "source": [
    "## Male/Female Wage Data"
   ]
  },
  {
   "cell_type": "code",
   "execution_count": null,
   "metadata": {},
   "outputs": [],
   "source": [
    "#grouping degree information by sex\n",
    "male = degree_data[degree_data['SEX'] == 1].groupby('FOD1P')\n",
    "female = degree_data[degree_data['SEX'] == 2].groupby('FOD1P')\n",
    "\n",
    "#obtaining male and female mean wages per degree\n",
    "male_wage = pd.DataFrame(male.mean()['WAGP'])\n",
    "female_wage = pd.DataFrame(female.mean()['WAGP'])\n",
    "                    \n",
    "#obtaining percentages of male and female per degree\n",
    "male_perc = pd.DataFrame(male.size())\n",
    "male_perc = male_perc / degree_counts * 100\n",
    "\n",
    "female_perc = pd.DataFrame(female.size())\n",
    "female_perc = female_perc / degree_counts * 100\n",
    "\n",
    "# merging data into one frame and renaming columns\n",
    "sex_data = male_perc.merge(male_wage, on = 'FOD1P').reset_index()\n",
    "sex_data = sex_data.merge(female_perc, on = 'FOD1P')\n",
    "sex_data = sex_data.merge(female_wage, on = 'FOD1P')\n",
    "\n",
    "sex_data.columns = ['degree_code',\n",
    "                    'male_%',\n",
    "                    'male_wage',\n",
    "                    'female_%',\n",
    "                    'female_wage']\n",
    "\n",
    "sex_data = degree_code.merge(sex_data, on = 'degree_code')\n",
    "\n",
    "#cleaning data\n",
    "sex_data = sex_data.drop('degree_code',axis = 1)\n",
    "sex_data = sex_data.round(2)\n",
    "\n",
    "#Saving the data to a csv\n",
    "sex_data.to_csv('data_to_plot/USSexDiffWages.csv', index = False)\n",
    "\n",
    "sex_data.sort_values('male_%', ascending = False).head()\n",
    "\n",
    "# Question 3 response: \n",
    "#  Biggest college degree gap where men are the majority = Naval Architecture And Marine Engineering, Mechanical Engineering Related Technologies\n",
    "#  Mining And Mineral Engineering, Industrial Production Technologies, Aerospace Engineering\n",
    "\n",
    "# Women are the majority\n",
    "# Early Childhood Education, Communication Disorders Sciences And Services, Nursing, \n",
    "# Elementary Education, Special Needs Education"
   ]
  },
  {
   "cell_type": "markdown",
   "metadata": {},
   "source": [
    "## People Looking for Jobs"
   ]
  },
  {
   "cell_type": "code",
   "execution_count": null,
   "metadata": {},
   "outputs": [],
   "source": [
    "#grouping data by degree code only including people that are looking for a job\n",
    "obs_looking = degree_data[degree_data['NWLK'] == 1].groupby('FOD1P')\n",
    "#getting counts of people for each degree and renaming column\n",
    "looking_counts = pd.DataFrame(obs_looking.size()).reset_index()\n",
    "looking_counts = looking_counts.rename(columns = {\"FOD1P\": \"degree_code\",\n",
    "                                                  0: \"looking\"})\n",
    "\n",
    "# looking_counts.head()"
   ]
  },
  {
   "cell_type": "markdown",
   "metadata": {},
   "source": [
    "## People working on Non-Degree jobs"
   ]
  },
  {
   "cell_type": "code",
   "execution_count": null,
   "metadata": {},
   "outputs": [],
   "source": [
    "#gathered the keys for what are considered low_end/non-college jobs (Servers,telemarketers, etc.) \n",
    "# Here's our list of low-end jobs (obtained from 2013-2017 ACS PUMS Data Dictionary)\n",
    "\n",
    "# 4020 .EAT-COOKS\n",
    "# 4030 .EAT-FOOD PREPARATION WORKERS\n",
    "# 4040 .EAT-BARTENDERS\n",
    "# 4050 .EAT-COMBINED FOOD PREPARATION AND SERVING WORKERS,\n",
    "# .INCLUDING FAST FOOD\n",
    "# 4060 .EAT-COUNTER ATTENDANTS, CAFETERIA, FOOD CONCESSION, AND\n",
    "# .COFFEE SHOP\n",
    "# 4110 .EAT-WAITERS AND WAITRESSES\n",
    "# 4120 .EAT-FOOD SERVERS, NONRESTAURANT\n",
    "# 4130 .EAT-MISCELLANEOUS FOOD PREPARATION AND SERVING RELATED\n",
    "# .WORKERS, INCLUDING DINING ROOM AND CAFETERIA ATTENDANTS AND\n",
    "# .BARTENDER HELPERS\n",
    "# 4140 .EAT-DISHWASHERS\n",
    "# 4150 .EAT-HOSTS AND HOSTESSES, RESTAURANT, LOUNGE, AND COFFEE SHOP\n",
    "# 4220 .CLN-JANITORS AND BUILDING CLEANERS\n",
    "# 4230 .CLN-MAIDS AND HOUSEKEEPING CLEANERS\n",
    "# 4240 .CLN-PEST CONTROL WORKERS\n",
    "# 4250 .CLN-GROUNDS MAINTENANCE WORKERS\n",
    "# 4720 .SAL-CASHIERS\n",
    "# 4740 .SAL-COUNTER AND RENTAL CLERKS\n",
    "# 4750 .SAL-PARTS SALESPERSONS\n",
    "# 4760 .SAL-RETAIL SALESPERSONS\n",
    "# 4940 .SAL-TELEMARKETERS\n",
    "\n",
    "low_end_jobs = [4020,4030,4040,4050,4060,4110,4120,4130,4140,4150\n",
    "                ,4220,4230,4240,4250,4720,4740,4750,4760,4940]\n",
    "data_low_end = degree_data[degree_data[\"OCCP\"].isin(low_end_jobs)]\n",
    "\n",
    "low_end_counts = pd.DataFrame(data_low_end.groupby('FOD1P').size()).reset_index()\n",
    "low_end_counts = low_end_counts.rename(columns = {0 : \"non-degree jobs\",\n",
    "                                                  \"FOD1P\": \"degree_code\",})\n",
    "\n",
    "low_end_counts.sort_values('non-degree jobs', ascending = False).head()"
   ]
  },
  {
   "cell_type": "markdown",
   "metadata": {},
   "source": [
    "## Occupation Codes"
   ]
  },
  {
   "cell_type": "code",
   "execution_count": null,
   "metadata": {},
   "outputs": [],
   "source": [
    "# getting the Occupation codes and names \n",
    "# obatined from 2013-2017 ACS PUMS Data Dictionary\n",
    "\n",
    "occ_code = pd.read_csv(\"data_files/Occupation_codes.csv\", header = None)\n",
    "occ_code = pd.DataFrame(occ_code)\n",
    "occ_code = occ_code.rename(columns = {0: \"occupation_code\",\n",
    "                                     1: \"occupation_field\",\n",
    "                                     2: \"occupation_name\"})\n",
    "occ_code = occ_code.dropna(1)\n",
    "# occ_code.head()"
   ]
  },
  {
   "cell_type": "markdown",
   "metadata": {},
   "source": [
    "## Information on Non-College persons"
   ]
  },
  {
   "cell_type": "code",
   "execution_count": null,
   "metadata": {},
   "outputs": [],
   "source": [
    "# Using the Data Dictionary, the a range of leve of educations can be obtained\n",
    "\n",
    "# 12 .Grade 9\n",
    "# 13 .Grade 10\n",
    "# 14 .Grade 11\n",
    "# 15 .12th grade - no diploma\n",
    "# 16 .Regular high school diploma\n",
    "# 17 .GED or alternative credential\n",
    "\n",
    "non_college = list(range(12,18))\n",
    "\n",
    "# getting all the data for people that are or have not been college students\n",
    "data_non_college = degree_data[degree_data[\"SCHL\"].isin(non_college)]\n",
    "#create dataframe\n",
    "non_college_counts = pd.DataFrame(data_non_college.groupby('OCCP').size()).reset_index()\n",
    "non_college_wage = pd.DataFrame(data_non_college.groupby('OCCP').mean())[[\"WAGP\"]].reset_index()\n",
    "non_college_data = non_college_counts.merge(non_college_wage, on = 'OCCP')\n",
    "non_college_data = non_college_data.rename(columns = {0 : \"non-college count\",\n",
    "                                                      \"OCCP\": \"occupation_code\",\n",
    "                                                      \"WAGP\":\"wage/salary\"})\n",
    "#merging occupation codes with salary information\n",
    "occ_full_data = occ_code.merge(non_college_data, on = \"occupation_code\")\n",
    "#cleaning data\n",
    "occ_full_data = occ_full_data.drop('occupation_code', axis = 1)\n",
    "occ_full_data = occ_full_data.round(2)\n",
    "#Saving the data to a csv\n",
    "occ_full_data.to_csv('data_to_plot/USOccuWages.csv')\n",
    "\n",
    "occ_full_data.head()"
   ]
  },
  {
   "cell_type": "markdown",
   "metadata": {},
   "source": [
    "## Compiling US Education Wages Data"
   ]
  },
  {
   "cell_type": "code",
   "execution_count": null,
   "metadata": {},
   "outputs": [],
   "source": [
    "#merge to a final dataframe including all data\n",
    "full_data = degree_code.merge(income_per_degree, on = 'degree_code')\n",
    "full_data = full_data.merge(low_end_counts, on = 'degree_code')\n",
    "full_data = full_data.merge(looking_counts, on = \"degree_code\")\n",
    "\n",
    "#finding percentages for people looking for jobs\n",
    "full_data[\"looking_%\"] = full_data[\"looking\"]\\\n",
    "                                /full_data[\"number_of_people\"]\\\n",
    "                                * 100\n",
    "#finding percentages of people in non-degree jobs\n",
    "full_data[\"NDJ_%\"] = full_data[\"non-degree jobs\"]\\\n",
    "                        /full_data[\"number_of_people\"]\\\n",
    "                        * 100\n",
    "#cleaning data\n",
    "full_data = full_data.drop('degree_code',axis = 1)\n",
    "full_data = full_data.round(2)\n",
    "#Saving the data to a csv\n",
    "full_data.to_csv('data_to_plot/USWages.csv', index = False)\n",
    "\n",
    "# Question 1 and 2 responses\n",
    "print(\"Highest salaries\")\n",
    "print(full_data.sort_values(\"wage/salary\", ascending = False).head(10))\n",
    "\n",
    "print(\"\\n#####################################################################\")\n",
    "\n",
    "print(\"\\nLowest salaries\")\n",
    "print(full_data.sort_values(\"wage/salary\", ascending = True).head(10))\n",
    "\n",
    "# Question 3\n",
    "# Biggest gap for men to women answered above.\n",
    "\n",
    "# Question 4e\n",
    "# Answered above\n",
    "\n",
    "# Question 5. \n",
    "print(\"\\n######################################################################\")\n",
    "print(\"Question 5\\n\")\n",
    "print(full_data.sort_values(\"non-degree jobs\", ascending = False).head(10))"
   ]
  },
  {
   "cell_type": "markdown",
   "metadata": {},
   "source": [
    "# Data is now now ready for further analysis/visualization\n",
    " CSVs have been created to include all the information to be further analysed, and there are the headers for each CSV:<br>\n",
    "This information collected for each degree<br>\n",
    "\n",
    "### USEduWages.csv\n",
    "degree_name : name of degree<br>\n",
    "number_of_people : number of people with that degree<br>\n",
    "wage/salary : wages or salary income past 12 months<br>\n",
    "non-degree jobs: number of people working in a job not in their field<br>\n",
    "looking : people looking for jobs <br>\n",
    "looking_% : percentage of people looking for jobs<br>\n",
    "NDJ_% : percentage of people working in a job not in their degree<br>\n",
    "\n",
    "### USOccuWages.csv\n",
    "occupation_field : abbreviation of the field of the occupation<br>\n",
    "occupation_name : name of occupation<br>\n",
    "number_of_people : number of people with that degree<br>\n",
    "wage/salary : wages or salary income past 12 months<br>\n",
    "\n",
    "### USSexDiffWages.csv\n",
    "degree_name\t: name of degree<br>\n",
    "male_% : percentage of male persons<br>\n",
    "male_wage : count of male persons<br>\n",
    "female_% : percentage of female persons<br>\n",
    "female_wage : count of female persons <br>"
   ]
  },
  {
   "cell_type": "code",
   "execution_count": null,
   "metadata": {},
   "outputs": [],
   "source": []
  }
 ],
 "metadata": {
  "kernelspec": {
   "display_name": "Project-1-Test",
   "language": "python",
   "name": "project-1-test"
  },
  "language_info": {
   "codemirror_mode": {
    "name": "ipython",
    "version": 3
   },
   "file_extension": ".py",
   "mimetype": "text/x-python",
   "name": "python",
   "nbconvert_exporter": "python",
   "pygments_lexer": "ipython3",
   "version": "3.6.8"
  }
 },
 "nbformat": 4,
 "nbformat_minor": 2
}
